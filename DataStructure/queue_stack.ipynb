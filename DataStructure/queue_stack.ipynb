{
 "cells": [
  {
   "cell_type": "markdown",
   "id": "62f475f4",
   "metadata": {},
   "source": [
    "# Queue\n",
    "\n",
    "- 가장 먼저 넣은 데이터가 가장 먼저 나오는 형태의 데이터 구조(FIFO)\n",
    "- 크게 장단점이 있지는 않다.\n",
    "- **운영체제 스케줄러에서 멀티태스킹을 위해 사용된다.**"
   ]
  },
  {
   "cell_type": "markdown",
   "id": "5568b538",
   "metadata": {},
   "source": [
    "## 주요 기능\n",
    "- Enqueue : queue에 데이터를 넣는 기능\n",
    "- Dequeue : queue에서 데이터를 빼는 기능"
   ]
  },
  {
   "cell_type": "markdown",
   "id": "cfcdfe61",
   "metadata": {},
   "source": [
    "## 파이썬 라이브러리에서 확인해보기"
   ]
  },
  {
   "cell_type": "code",
   "execution_count": 1,
   "id": "b853c16e",
   "metadata": {
    "ExecuteTime": {
     "end_time": "2022-06-13T14:53:31.958846Z",
     "start_time": "2022-06-13T14:53:31.941726Z"
    }
   },
   "outputs": [],
   "source": [
    "import queue"
   ]
  },
  {
   "cell_type": "code",
   "execution_count": 7,
   "id": "e513be54",
   "metadata": {
    "ExecuteTime": {
     "end_time": "2022-06-13T14:56:08.599512Z",
     "start_time": "2022-06-13T14:56:08.591533Z"
    }
   },
   "outputs": [
    {
     "name": "stdout",
     "output_type": "stream",
     "text": [
      "2\n",
      "1 deque([2])\n"
     ]
    }
   ],
   "source": [
    "queue_ = queue.Queue()\n",
    "queue_.put(1)\n",
    "queue_.put(2)\n",
    "print(queue_.qsize())\n",
    "print(queue_.get(), queue_.queue)"
   ]
  },
  {
   "cell_type": "code",
   "execution_count": 12,
   "id": "dd9e1a71",
   "metadata": {
    "ExecuteTime": {
     "end_time": "2022-06-13T14:57:27.669249Z",
     "start_time": "2022-06-13T14:57:27.658532Z"
    }
   },
   "outputs": [
    {
     "name": "stdout",
     "output_type": "stream",
     "text": [
      "2\n",
      "2 [1]\n"
     ]
    }
   ],
   "source": [
    "lifo_queue = queue.LifoQueue()\n",
    "lifo_queue.put(1)\n",
    "lifo_queue.put(2)\n",
    "print(lifo_queue.qsize())\n",
    "print(lifo_queue.get(), lifo_queue.queue)"
   ]
  },
  {
   "cell_type": "code",
   "execution_count": 14,
   "id": "553892ca",
   "metadata": {
    "ExecuteTime": {
     "end_time": "2022-06-13T14:58:57.065387Z",
     "start_time": "2022-06-13T14:58:57.046484Z"
    }
   },
   "outputs": [
    {
     "name": "stdout",
     "output_type": "stream",
     "text": [
      "2\n",
      "(1, 10) [(2, 15)]\n"
     ]
    }
   ],
   "source": [
    "priority_queue = queue.PriorityQueue()\n",
    "priority_queue.put((1, 10))\n",
    "priority_queue.put((2, 15))\n",
    "print(priority_queue.qsize())\n",
    "print(priority_queue.get(), priority_queue.queue)"
   ]
  },
  {
   "cell_type": "markdown",
   "id": "b7a44dc7",
   "metadata": {},
   "source": [
    "## 파이썬 list로 구현해보기\n"
   ]
  },
  {
   "cell_type": "code",
   "execution_count": 33,
   "id": "8c88e16d",
   "metadata": {
    "ExecuteTime": {
     "end_time": "2022-06-13T15:18:48.635604Z",
     "start_time": "2022-06-13T15:18:48.623518Z"
    }
   },
   "outputs": [],
   "source": [
    "def put(data):\n",
    "    queue_.append(data)\n",
    "    \n",
    "def get():\n",
    "    data = queue_[0]\n",
    "    del queue_[0]\n",
    "    return data"
   ]
  },
  {
   "cell_type": "code",
   "execution_count": 34,
   "id": "040f82c9",
   "metadata": {
    "ExecuteTime": {
     "end_time": "2022-06-13T15:18:49.199579Z",
     "start_time": "2022-06-13T15:18:49.185615Z"
    }
   },
   "outputs": [
    {
     "name": "stdout",
     "output_type": "stream",
     "text": [
      "init queue : []\n",
      "put(1), queue : [1]\n",
      "put(2), queue : [1, 2]\n",
      "get(), getted element : 1, queue : [2]\n"
     ]
    }
   ],
   "source": [
    "queue_ = []\n",
    "print('init queue :', queue_)\n",
    "put(1)\n",
    "print('put(1), queue :', queue_)\n",
    "put(2)\n",
    "print('put(2), queue :', queue_)\n",
    "print(f'get(), getted element : {get()}, queue :', queue_)"
   ]
  },
  {
   "cell_type": "markdown",
   "id": "314e5e7e",
   "metadata": {},
   "source": [
    "# Stack\n",
    "- queue와 마찬가지로 데이터에 제한적으로 접근하게 하는 데이터 구조이다.\n",
    "- 가장 나중에 들어간 데이터가 가장 먼저 나오는 형태의 데이터 구조(LIFO)\n",
    "- **스택 구조는 프로세스 구조의 함수 동작 방식이다.**\n",
    "\n",
    "\n",
    "- 장점 \n",
    "    - 구현이 쉽다.\n",
    "    - 저장 / 읽기 속도가 빠르다. (프로세스 처리에 적용하는 것을 생각 / 구현에 따라 다르긴 하다.)\n",
    "- 단점\n",
    "    - 데이터의 공간을 미리 정해야한다. (파이썬의 경우 1000번)\n",
    "    - 저장공간의 낭비가 발생할 수 있다. (미리 공간을 정해야하기 때문에 지정한 것 보다 공간을 적게 사용한다면 낭비된다.)"
   ]
  },
  {
   "cell_type": "markdown",
   "id": "56b0e0cb",
   "metadata": {},
   "source": [
    "## 주요기능\n",
    "- push()\n",
    "- pop()"
   ]
  },
  {
   "cell_type": "markdown",
   "id": "1faaae2f",
   "metadata": {},
   "source": [
    "## 함수 호출시 프로세스 실행 구조를 스택과 비교해서 이해 필요"
   ]
  },
  {
   "cell_type": "code",
   "execution_count": 17,
   "id": "f135b417",
   "metadata": {
    "ExecuteTime": {
     "end_time": "2022-06-13T15:08:06.429262Z",
     "start_time": "2022-06-13T15:08:06.410063Z"
    }
   },
   "outputs": [],
   "source": [
    "def recursive(data):\n",
    "    if data < 0:\n",
    "        print('ended')\n",
    "    else:\n",
    "        print(data)\n",
    "        recursive(data - 1)\n",
    "        print('returned', data)"
   ]
  },
  {
   "cell_type": "code",
   "execution_count": 18,
   "id": "1fcb078c",
   "metadata": {
    "ExecuteTime": {
     "end_time": "2022-06-13T15:08:10.388235Z",
     "start_time": "2022-06-13T15:08:10.374553Z"
    }
   },
   "outputs": [
    {
     "name": "stdout",
     "output_type": "stream",
     "text": [
      "4\n",
      "3\n",
      "2\n",
      "1\n",
      "0\n",
      "ended\n",
      "returned 0\n",
      "returned 1\n",
      "returned 2\n",
      "returned 3\n",
      "returned 4\n"
     ]
    }
   ],
   "source": [
    "recursive(4)"
   ]
  },
  {
   "cell_type": "markdown",
   "id": "3bd9cf8a",
   "metadata": {},
   "source": [
    "## 파이썬 list로 구현해보기"
   ]
  },
  {
   "cell_type": "code",
   "execution_count": 21,
   "id": "f6c0b29b",
   "metadata": {
    "ExecuteTime": {
     "end_time": "2022-06-13T15:12:57.759092Z",
     "start_time": "2022-06-13T15:12:57.749112Z"
    }
   },
   "outputs": [],
   "source": [
    "\n",
    "def push(data):\n",
    "    stack_.append(data)\n",
    "    \n",
    "def pop():\n",
    "    data = stack_[-1]\n",
    "    del stack_[-1]\n",
    "    return data"
   ]
  },
  {
   "cell_type": "code",
   "execution_count": 32,
   "id": "91e0f258",
   "metadata": {
    "ExecuteTime": {
     "end_time": "2022-06-13T15:17:19.324108Z",
     "start_time": "2022-06-13T15:17:19.303212Z"
    }
   },
   "outputs": [
    {
     "name": "stdout",
     "output_type": "stream",
     "text": [
      "init stack : []\n",
      "push(1), stack : [1]\n",
      "push(2), stack : [1, 2]\n",
      "pop(), popped element : 2, stack : [1]\n"
     ]
    }
   ],
   "source": [
    "stack_ = []\n",
    "print('init stack :', stack_)\n",
    "push(1)\n",
    "print('push(1), stack :', stack_)\n",
    "push(2)\n",
    "print('push(2), stack :', stack_)\n",
    "print(f'pop(), popped element : {pop()}, stack :', stack_)"
   ]
  }
 ],
 "metadata": {
  "hide_input": false,
  "kernelspec": {
   "display_name": "Python 3",
   "language": "python",
   "name": "python3"
  },
  "language_info": {
   "codemirror_mode": {
    "name": "ipython",
    "version": 3
   },
   "file_extension": ".py",
   "mimetype": "text/x-python",
   "name": "python",
   "nbconvert_exporter": "python",
   "pygments_lexer": "ipython3",
   "version": "3.8.8"
  },
  "toc": {
   "base_numbering": 1,
   "nav_menu": {},
   "number_sections": true,
   "sideBar": true,
   "skip_h1_title": false,
   "title_cell": "Table of Contents",
   "title_sidebar": "Contents",
   "toc_cell": false,
   "toc_position": {},
   "toc_section_display": true,
   "toc_window_display": false
  },
  "varInspector": {
   "cols": {
    "lenName": 16,
    "lenType": 16,
    "lenVar": 40
   },
   "kernels_config": {
    "python": {
     "delete_cmd_postfix": "",
     "delete_cmd_prefix": "del ",
     "library": "var_list.py",
     "varRefreshCmd": "print(var_dic_list())"
    },
    "r": {
     "delete_cmd_postfix": ") ",
     "delete_cmd_prefix": "rm(",
     "library": "var_list.r",
     "varRefreshCmd": "cat(var_dic_list()) "
    }
   },
   "types_to_exclude": [
    "module",
    "function",
    "builtin_function_or_method",
    "instance",
    "_Feature"
   ],
   "window_display": false
  }
 },
 "nbformat": 4,
 "nbformat_minor": 5
}
