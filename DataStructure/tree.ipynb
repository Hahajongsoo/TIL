{
 "cells": [
  {
   "cell_type": "markdown",
   "metadata": {},
   "source": [
    "# Tree\n",
    "## 트리(Tree) 구조\n",
    "\n",
    "- 트리: Node와 Branch를 이용해서, 사이클을 이루지 않도록 구성한 데이터 구조\n",
    "- 실제로 어디에 많이 사용되나?\n",
    "    - 트리 중 이진트리 (Binary Tree) 형태의 구조로, 탐색 알고리즘 구현을 위해 많이 사용함\n",
    "\n",
    "## 알아둘 용어\n",
    "\n",
    "- Node: 트리에서 데이터를 저장하는 기본 요소(데이터와 다른 연결된 노드에 대한 Branch 정보 포함)\n",
    "- Root Node: 트리 맨 위에 있는 노드\n",
    "- Level: 최상위 노드를 Level 0으로 하였을 때, 하위 Branch로 연결된 노드의 깊이를 나타냄\n",
    "- Parent None: 어떤 노드의 다음 레벨에 연결된 노드\n",
    "- Chile Node: 어떤 노드의 상위 레벨에 연결된 노드\n",
    "- Leaf Node(Terminal Node): Child Node가 하나도 없는 노드\n",
    "- Sibling: 동일한 Parent Node를 가지는 노드\n",
    "- Depth: 트리에서 Node가 가질 수 있는 최대 Level\n",
    "\n",
    "## 이진 트리와 이진 탐색 트리(Binary Search Tree)\n",
    "- 이진 트리: 노드의 최대 Branch가 2인 트리\n",
    "- 이진 탐색 트리(Binary Search Tree, BST): 이진 트리에 다음과 같은 추가적인 조건이 있는 트리\n",
    "    - 왼쪽 노드는 해당 노드보다 작은 값, 오른쪽 노드는 해당 노드보다 큰 값을 가지고 있음\n",
    "\n",
    "## 자료 구조 이진 탐색 트리의 장점과 주요 용도\n",
    "- 주요 용도: 데이터 검색(탐색)\n",
    "- 장점: 탐색 속도를 개선할 수 있음\n",
    "\n",
    "## 트리 구현하기\n"
   ]
  },
  {
   "cell_type": "code",
   "execution_count": 2,
   "metadata": {},
   "outputs": [],
   "source": [
    "class Node():\n",
    "    def __init__(self, value):\n",
    "        self.value = value\n",
    "        self.left = None\n",
    "        self.right = None"
   ]
  },
  {
   "cell_type": "code",
   "execution_count": 2,
   "metadata": {},
   "outputs": [],
   "source": [
    "class MyBST():\n",
    "    def __init__(self, head):\n",
    "        self.head = head\n",
    "    \n",
    "    def insert(self, value):\n",
    "        self.current_node = self.head\n",
    "        while True:\n",
    "            if self.current_node.value > value:\n",
    "                if self.current_node.left != None:\n",
    "                    self.current_node = self.current_node.left\n",
    "                else:\n",
    "                    self.current_node.left = Node(value)\n",
    "                    break\n",
    "            else:\n",
    "                if self.current_node.right != None:\n",
    "                    self.current_node = self.current_node.right\n",
    "                else:\n",
    "                    self.current_node.right = Node(value)\n",
    "                    break\n",
    "\n",
    "    def search(self, value):\n",
    "        self.current_node = self.head\n",
    "        while self.current_node:\n",
    "            if self.current_node.value == value:\n",
    "                return True\n",
    "            elif self.current_node.value > value:\n",
    "                self.current_node = self.current_node.left\n",
    "            else:\n",
    "                self.current_node = self.current_node.right\n",
    "        return False\n"
   ]
  },
  {
   "cell_type": "code",
   "execution_count": 3,
   "metadata": {},
   "outputs": [],
   "source": [
    "head = Node(10)\n",
    "bst = MyBST(head)"
   ]
  },
  {
   "cell_type": "code",
   "execution_count": 4,
   "metadata": {},
   "outputs": [],
   "source": [
    "bst.insert(1)\n",
    "bst.insert(3)\n",
    "bst.insert(15)\n",
    "bst.insert(11)"
   ]
  },
  {
   "cell_type": "code",
   "execution_count": 11,
   "metadata": {},
   "outputs": [
    {
     "name": "stdout",
     "output_type": "stream",
     "text": [
      "[True, False, True, False, True, True, True]\n"
     ]
    }
   ],
   "source": [
    "print([bst.search(n) for n in [1, 2, 3, 4, 10, 11, 15]])"
   ]
  },
  {
   "cell_type": "markdown",
   "metadata": {},
   "source": [
    "### Node 삭제의 경우 복잡하므로 경우의 수를 나누어 생각하는 것이 좋다.\n",
    "- Leaf node인 경우\n",
    "    - 해당 node를 삭제하고 해당 node를 가리키고 있는 parent node의 left 혹은 right이 None을 가리키게 한다.\n",
    "- Child node가 하나인 경우\n",
    "    - 해당 node를 삭제하고 parent node의 left 혹은 right를 해당 node의 child를 가리키게 한다.\n",
    "- Child node가 2개인 경우\n",
    "    - 해당 노드의 오른쪽 자식 중, 가장 작은 값을 삭제할 node의 parent node가 가리키도록 한다.\n",
    "    - 해당 노드의 왼쪽 자식 중, 가장 큰 값을 삭제할 node의 parent node가 가리키도록 한다.\n"
   ]
  },
  {
   "cell_type": "code",
   "execution_count": 143,
   "metadata": {},
   "outputs": [],
   "source": [
    "class MyBST():\n",
    "    def __init__(self, head):\n",
    "        self.head = head\n",
    "    \n",
    "    def insert(self, value):\n",
    "        self.current_node = self.head\n",
    "        while True:\n",
    "            if self.current_node.value > value:\n",
    "                if self.current_node.left != None:\n",
    "                    self.current_node = self.current_node.left\n",
    "                else:\n",
    "                    self.current_node.left = Node(value)\n",
    "                    break\n",
    "            else:\n",
    "                if self.current_node.right != None:\n",
    "                    self.current_node = self.current_node.right\n",
    "                else:\n",
    "                    self.current_node.right = Node(value)\n",
    "                    break\n",
    "\n",
    "    def search(self, value):\n",
    "        self.current_node = self.head\n",
    "        while self.current_node:\n",
    "            if self.current_node.value == value:\n",
    "                return True\n",
    "            elif self.current_node.value > value:\n",
    "                self.current_node = self.current_node.left\n",
    "            else:\n",
    "                self.current_node = self.current_node.right\n",
    "        return False\n",
    "\n",
    "    def delete(self, value):\n",
    "        searched = False\n",
    "        self.current_node = self.head\n",
    "        self.parent = self.head\n",
    "        while self.current_node:\n",
    "            if self.current_node.value == value:\n",
    "                searched = True\n",
    "                break\n",
    "            elif self.current_node.value > value:\n",
    "                self.parent = self.current_node\n",
    "                self.current_node = self.current_node.left\n",
    "            else:\n",
    "                self.parent = self.current_node\n",
    "                self.current_node = self.current_node.right\n",
    "        if searched == False:\n",
    "            return False\n",
    "        \n",
    "        # current_node 가 leaf node인 경우\n",
    "        \n",
    "        if self.current_node.left == None and self.current_node.right == None:\n",
    "            if self.parent.value > value:\n",
    "                self.parent.left = None\n",
    "            else:\n",
    "                self.parent.right = None\n",
    "            del self.current_node\n",
    "            \n",
    "        # current_node의 child node가 하나 있는 경우\n",
    "        elif self.current_node.left != None and self.current_node.right == None:\n",
    "            if self.parent.value > value:\n",
    "                self.parent.left = self.current_node.left\n",
    "            else:\n",
    "                self.parent.right = self.current_node.left\n",
    "            del self.current_node\n",
    "            \n",
    "        elif self.current_node.left == None and self.current_node.right != None:\n",
    "            if self.parent.value > value:\n",
    "                self.parent.left = self.current_node.right\n",
    "            else:\n",
    "                self.parent.right = self.current_node.right\n",
    "            del self.current_node\n",
    "            \n",
    "        # current_node의 child node가 둘 다 있는 경우\n",
    "        elif self.current_node.left != None and self.current_node.right != None:\n",
    "            if self.parent.value > value:\n",
    "                self.change_node = self.current_node.right\n",
    "                self.change_node_parent = self.current_node\n",
    "                while self.change_node.left:\n",
    "                    self.change_node_parent = self.change_node\n",
    "                    self.change_node = self.change_node.left\n",
    "                    \n",
    "                if self.change_node == self.current_node.right: # 반례 부분\n",
    "                        self.change_node.left = self.current_node.left\n",
    "                        self.parent.left = self.change_node\n",
    "                        return\n",
    "                \n",
    "                if self.change_node.right != None:\n",
    "                    self.change_node_parent.left = self.change_node.right\n",
    "                else:\n",
    "                    self.change_node_parent.left = None\n",
    "                self.parent.left = self.change_node\n",
    "                self.change_node.left = self.current_node.left\n",
    "                self.change_node.right = self.current_node\n",
    "                \n",
    "            else:\n",
    "                self.change_node = self.current_node.right\n",
    "                self.change_node_parent = self.current_node.right\n",
    "                while self.change_node.left:\n",
    "                    self.change_node_parent = self.change_node\n",
    "                    self.change_node = self.change_node.left\n",
    "                    \n",
    "                if self.change_node == self.current_node.right:\n",
    "                        self.change_node.left = self.current_node.left\n",
    "                        self.parent.right = self.change_node\n",
    "                        return\n",
    "                    \n",
    "                if self.change_node.right != None:\n",
    "                    self.change_node_parent.left = self.change_node.right\n",
    "                else:\n",
    "                    self.change_node_parent.left = None\n",
    "                self.parent.right = self.change_node\n",
    "                self.change_node.left = self.current_node.left\n",
    "                self.change_node.right = self.current_node.right\n",
    "            del self.current_node"
   ]
  },
  {
   "cell_type": "code",
   "execution_count": 264,
   "metadata": {},
   "outputs": [
    {
     "name": "stdout",
     "output_type": "stream",
     "text": [
      "{516, 519, 9, 531, 550, 54, 582, 584, 84, 597, 87, 599, 96, 105, 619, 113, 116, 630, 121, 129, 133, 653, 143, 663, 155, 676, 178, 183, 186, 705, 711, 712, 201, 203, 720, 723, 726, 216, 734, 225, 242, 758, 761, 762, 257, 771, 260, 262, 774, 275, 277, 796, 287, 799, 292, 296, 302, 311, 826, 837, 842, 847, 335, 339, 344, 857, 351, 866, 357, 876, 365, 885, 891, 893, 383, 388, 389, 906, 908, 911, 912, 917, 413, 927, 424, 942, 436, 449, 965, 976, 978, 979, 466, 474, 992, 994, 486, 487, 499, 511}\n",
      "225\n",
      "866\n",
      "389\n",
      "550\n",
      "965\n",
      "619\n",
      "876\n",
      "335\n",
      "726\n",
      "311\n"
     ]
    }
   ],
   "source": [
    "# 1 ~ 1000 숫자 중에서 임의로 100개를 추출해서, 이진 탐색 트리에 입력, 검색, 삭제\n",
    "import random\n",
    "nums = set()\n",
    "# 100개 숫자 랜덤 선택\n",
    "while len(nums) != 100:\n",
    "    nums.add(random.randint(1, 1000))\n",
    "print(nums)\n",
    "\n",
    "# 해당 숫자 트리에 입력 및 루트 노드는 임의로 500\n",
    "bst = MyBST(Node(500))\n",
    "for num in nums:\n",
    "    bst.insert(num)\n",
    "# 해당 숫자 트리에 있는지 검색\n",
    "for num in nums:\n",
    "    if bst.search(num) == False:\n",
    "        print('failed search', num)\n",
    "# 해당 숫자 중 임의로 10개 골라서 트리에서 삭제\n",
    "nums = list(nums)\n",
    "delete_nums = set()\n",
    "while len(delete_nums) != 10:\n",
    "    delete_nums.add(nums[random.randint(0, 99)])\n",
    "for num in delete_nums:\n",
    "    print(num)\n",
    "    if bst.delete(num) == False:\n",
    "        print('failed delete', num)\n"
   ]
  },
  {
   "cell_type": "code",
   "execution_count": 102,
   "metadata": {},
   "outputs": [
    {
     "data": {
      "text/plain": [
       "562"
      ]
     },
     "execution_count": 102,
     "metadata": {},
     "output_type": "execute_result"
    }
   ],
   "source": [
    "bst.head.right.right.right.value"
   ]
  },
  {
   "cell_type": "markdown",
   "metadata": {},
   "source": [
    "### 이진 탐색 트리의 시간 복잡도와 단점\n",
    "\n",
    "#### 시간 복잡도 (탐색시)\n",
    "\n",
    "- depth를 h라고 표기한다면, $O(h)$\n",
    "- n개의 노드를 가진다면, $h = log_2{n}$ 에 가까우므로 $O(logn)$\n",
    "    - 한번 실행시마다, 50%의 실행할 수도 있는 명령을 제거한다는 의미, 즉 50%의 실행 시간을 단축 시킬 수 있다는 것을 의미함\n",
    "\n",
    "#### 이진 탐색 트리 단점\n",
    "\n",
    "- 평균 시간 복잡도는 $O(logn)$ 이지만, 루트 노드가 한 방향으로 치우쳐저 있는 경우 이는 링크드 리스트와 같은 구조가 되고 시간 복잡도는 $O(n)$이 된다."
   ]
  }
 ],
 "metadata": {
  "kernelspec": {
   "display_name": "Python 3.8.8 ('base')",
   "language": "python",
   "name": "python3"
  },
  "language_info": {
   "codemirror_mode": {
    "name": "ipython",
    "version": 3
   },
   "file_extension": ".py",
   "mimetype": "text/x-python",
   "name": "python",
   "nbconvert_exporter": "python",
   "pygments_lexer": "ipython3",
   "version": "3.8.8"
  },
  "orig_nbformat": 4,
  "vscode": {
   "interpreter": {
    "hash": "f3f46aab5246a6d2fd17f1192791fcfd630c7eeb9a95d75f7a2a0e85c64d9216"
   }
  }
 },
 "nbformat": 4,
 "nbformat_minor": 2
}
