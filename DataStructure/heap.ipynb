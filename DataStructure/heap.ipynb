{
 "cells": [
  {
   "cell_type": "markdown",
   "metadata": {},
   "source": [
    "# 힙(Heap)\n",
    "## 힙이란?\n",
    "- 힙: 데이터에서 최대값과 최소값을 빠르게 찾기 위해 고안된 완전 이진 트리(complete binary tree)\n",
    "    - 완전 이진 트리: 노드를 삽입할 때 최하단 왼쪽 노드부터 차례대로 삽입하는 트리\n",
    "\n",
    "- 힙을 사용하는 이유\n",
    "    - 배열에 데이터를 넣고, 최대값과 최소값을 찾으려면 O(n)이 걸림\n",
    "    - 이에 반해, 힙에 데이터를 넣고, 최대값과 최소값을 찾으면 O(logn)이 걸림\n",
    "    - 우선순위 큐과 같이 최대값 또는 최소값을 빠르게 찾아야 하는 자료구조 및 알고리즘 구현 등에 활용됨\n",
    "\n",
    "## 힙 구조\n",
    "- 힙은 최대값을 구하기 위한 구조(최대 힙, Max Heap)와 최소값을 구하기 위한 구조(최소 힙, Min Heap)로 분류할 수 있음\n",
    "- 힙은 다음과 같이 두 가지 조건을 가지고 있는 자료구조임\n",
    "    1. 각 노드의 값은 해당 노드의 자식 노드가 가진 값보다 크거나 같다.(최대 힙의 경우)\n",
    "        - 최소 힙의 경우는 각 노드의 값은 해당 노드의 자식 노드가 가진 값보다 작거나 같다.\n",
    "    2. 완전 이진 트리 형태를 가짐\n",
    "\n",
    "### 힙과 이진 탐색 트리의 공통점과 차이점\n",
    "- 공통점: 힙과 이진 탐색 트리는 모두 이진 트리임\n",
    "- 차이점:\n",
    "    - 힙은 각 노드의 값이 자식 노드보다 크거나 같음(최대 힙의 경우)\n",
    "    - 이진 탐색 트리는 왼쪽 자식 노드의 값이 가장 작고, 그 다음 부모 노드, 그 다음 오른쪽 자식 노드 값이 가장 큼\n",
    "    - 힙은 이진 탐색 트리의 조건인 자식 노드에서 작은 값은 왼쪽, 큰 값은 오른쪽이라는 조건은 없음\n",
    "        - 힙의 왼쪽 및 오른쪽 자식 노드의 값은 오른쪽이 클 수도 있고, 왼쪽이 클 수도 있듬\n",
    "    - 이진 탐색 트리는 탐색을 위한 구조, 힙은 최대/최소값 검색을 위한 구조 중 하나로 이해하면 된다.\n",
    "\n",
    "## 힙 동작\n",
    "### 데이터 삽입하기\n",
    "- 힙은 완전 이진트리이므로, 삽입할 노드는 기본적으로 왼쪽 최하단 노드부터 채워지는 형태로 삽입\n",
    "\n",
    "#### 삽입할 데이터가 힙의 데이터보다 클 경우(Max Heap의 예)\n",
    "- 먼저 삽입된 데이터는 완전 이진 트리 구조에 맞추어, 최하단부 왼쪽 노드부터 채워짐\n",
    "- 채워진 노드 위치에서, 부모 노드보다 값이 클 경우, 부모 노드와 위치를 바꿔주는 작업을 반복함(swap)\n",
    "\n",
    "### 데이터 삭제하기(Max Heap의 예)\n",
    "- 보통 삭제는 최상단 노드를 삭제하는 것이 일반적임\n",
    "    - 힙의 용도는 최대값 또는 최소값을 root node에 놓아서, 최대값과 최소값을 바로 꺼내 쓸 수 있도록하는 것이다.\n",
    "- 상단의 데이터 삭제시, 가장 최하단부 왼쪽에 위치한 노드(일반적으로 가장 마지막에 추가한 노드)를 root노드로 이동\n",
    "- root 노드의 값이 child 노드보다 작을 경우, root 노드의 child 노드 중 가장 큰 값을 가진 노드와 root 노드 위치를 바꿔주는 작업을 반복함(swap)\n",
    "\n",
    "## 힙 구현\n",
    "### 힙과 배열\n",
    "- 일반적으로 힙은 배열로 구현한다. 힙이 완전 이진 트리의 구조이기 때문에 가능하다.\n",
    "- 부모 노드 인덱스 번호 = 자식 노드 인덱스 번호 // 2\n",
    "- 왼쪽 자식 노드 인덱스 번호 = 부모 노드 인덱스 번호 * 2\n",
    "- 오른쪽 자식 노드 인덱스 번호 = 부모 노드 인덱스 번호 * 2 + 1\n"
   ]
  },
  {
   "cell_type": "code",
   "execution_count": 5,
   "metadata": {},
   "outputs": [],
   "source": [
    "class MyHeap():\n",
    "    def __init__(self, data):\n",
    "        self.heap_array = [None]\n",
    "        self.heap_array.append(data)\n",
    "\n",
    "    def swap(self, inserted_idx):\n",
    "        if inserted_idx <= 1:\n",
    "            return False\n",
    "        \n",
    "        parent_idx = inserted_idx // 2\n",
    "        \n",
    "        if self.heap_array[parent_idx] < self.heap_array[inserted_idx]:\n",
    "            return True\n",
    "        else:\n",
    "            return False \n",
    "\n",
    "\n",
    "    def insert(self, data):\n",
    "        self.heap_array.append(data)\n",
    "        inserted_idx = len(self.heap_array) - 1\n",
    "\n",
    "        while self.swap(inserted_idx):\n",
    "            parent_idx = inserted_idx // 2\n",
    "            self.heap_array[inserted_idx], self.heap_array[parent_idx] = self.heap_array[parent_idx], self.heap_array[inserted_idx]\n",
    "            inserted_idx = parent_idx\n",
    "        \n",
    "        return True"
   ]
  },
  {
   "cell_type": "code",
   "execution_count": 8,
   "metadata": {},
   "outputs": [
    {
     "data": {
      "text/plain": [
       "[None, 20, 10, 15, 5, 4, 8]"
      ]
     },
     "execution_count": 8,
     "metadata": {},
     "output_type": "execute_result"
    }
   ],
   "source": [
    "heap = MyHeap(15)\n",
    "heap.insert(10)\n",
    "heap.insert(8)\n",
    "heap.insert(5)\n",
    "heap.insert(4)\n",
    "heap.insert(20)\n",
    "heap.heap_array"
   ]
  },
  {
   "cell_type": "code",
   "execution_count": 34,
   "metadata": {},
   "outputs": [],
   "source": [
    "class MyHeap():\n",
    "    def __init__(self, data):\n",
    "        self.heap_array = [None]\n",
    "        self.heap_array.append(data)\n",
    "\n",
    "    def move_up(self, inserted_idx):\n",
    "        if inserted_idx <= 1:\n",
    "            return False\n",
    "        \n",
    "        parent_idx = inserted_idx // 2\n",
    "        \n",
    "        if self.heap_array[parent_idx] < self.heap_array[inserted_idx]:\n",
    "            return True\n",
    "        else:\n",
    "            return False \n",
    "\n",
    "    def move_down(self, poped_idx):\n",
    "        left_idx = poped_idx * 2\n",
    "        right_idx = poped_idx * 2 + 1\n",
    "        \n",
    "        # 자식 노드가 왼쪽 노드 조차 없는 경우\n",
    "        if left_idx >= len(self.heap_array):\n",
    "            return False\n",
    "        # 자식 노드가 오른쪽에만 없는 경우\n",
    "        elif right_idx >= len(self.heap_array):\n",
    "            if self.heap_array[poped_idx] < self.heap_array[left_idx]:\n",
    "                return True\n",
    "            else:\n",
    "                return False\n",
    "        # 자식 노드가 둘 다 있는 경우\n",
    "        else:\n",
    "            if self.heap_array[left_idx] > self.heap_array[right_idx]:\n",
    "                if self.heap_array[poped_idx] < self.heap_array[left_idx]:\n",
    "                    return True\n",
    "                else:\n",
    "                    return False\n",
    "            else:\n",
    "                if self.heap_array[poped_idx] < self.heap_array[right_idx]:\n",
    "                    return True\n",
    "                else:\n",
    "                    return False\n",
    "\n",
    "\n",
    "\n",
    "\n",
    "    def insert(self, data):\n",
    "        self.heap_array.append(data)\n",
    "        inserted_idx = len(self.heap_array) - 1\n",
    "\n",
    "        while self.move_up(inserted_idx):\n",
    "            parent_idx = inserted_idx // 2\n",
    "            self.heap_array[inserted_idx], self.heap_array[parent_idx] = self.heap_array[parent_idx], self.heap_array[inserted_idx]\n",
    "            inserted_idx = parent_idx\n",
    "        \n",
    "        return True\n",
    "\n",
    "    def pop(self):\n",
    "        poped_data = self.heap_array[1]\n",
    "        self.heap_array[1] = self.heap_array[-1]\n",
    "        del self.heap_array[-1]\n",
    "\n",
    "        poped_idx = 1\n",
    "        while self.move_down(poped_idx):\n",
    "            left_idx = poped_idx * 2\n",
    "            right_idx = poped_idx * 2 + 1\n",
    "            \n",
    "            # 자식 노드가 오른쪽에만 없는 경우\n",
    "            if right_idx >= len(self.heap_array):\n",
    "                if self.heap_array[poped_idx] < self.heap_array[left_idx]:\n",
    "                    self.heap_array[poped_idx], self.heap_array[left_idx] = self.heap_array[left_idx], self.heap_array[poped_idx]\n",
    "                    poped_idx = left_idx\n",
    "\n",
    "            # 자식 노드가 둘 다 있는 경우\n",
    "            else:\n",
    "                if self.heap_array[left_idx] > self.heap_array[right_idx]:\n",
    "                    if self.heap_array[poped_idx] < self.heap_array[left_idx]:\n",
    "                        self.heap_array[poped_idx], self.heap_array[left_idx] = self.heap_array[left_idx], self.heap_array[poped_idx]\n",
    "                        poped_idx = left_idx                        \n",
    "                else:\n",
    "                    if self.heap_array[poped_idx] < self.heap_array[right_idx]:\n",
    "                        self.heap_array[poped_idx], self.heap_array[right_idx] = self.heap_array[right_idx], self.heap_array[poped_idx]\n",
    "                        poped_idx = right_idx\n",
    "\n",
    "        return poped_data  "
   ]
  },
  {
   "cell_type": "code",
   "execution_count": 35,
   "metadata": {},
   "outputs": [
    {
     "name": "stdout",
     "output_type": "stream",
     "text": [
      "[None, 20, 10, 15, 5, 4, 8]\n",
      "20\n",
      "[None, 15, 10, 8, 5, 4]\n"
     ]
    }
   ],
   "source": [
    "heap = MyHeap(15)\n",
    "heap.insert(10)\n",
    "heap.insert(8)\n",
    "heap.insert(5)\n",
    "heap.insert(4)\n",
    "heap.insert(20)\n",
    "print(heap.heap_array)\n",
    "print(heap.pop())\n",
    "print(heap.heap_array)\n"
   ]
  },
  {
   "cell_type": "code",
   "execution_count": 36,
   "metadata": {},
   "outputs": [
    {
     "data": {
      "text/plain": [
       "array([85, 17,  8, 42, 95,  1, 75, 16, 91, 54])"
      ]
     },
     "execution_count": 36,
     "metadata": {},
     "output_type": "execute_result"
    }
   ],
   "source": [
    "import numpy as np\n"
   ]
  },
  {
   "cell_type": "code",
   "execution_count": 76,
   "metadata": {},
   "outputs": [
    {
     "name": "stdout",
     "output_type": "stream",
     "text": [
      "[15 55 41 45 62 58  9 11 81 84]\n",
      "[None, 84, 81, 58, 55, 62, 41, 9, 11, 15, 45]\n",
      "[84, 81, 62, 58, 55, 45, 41, 15, 11, 9]\n"
     ]
    }
   ],
   "source": [
    "nums = np.random.choice(100, (10), False)\n",
    "print(nums)\n",
    "heap = MyHeap(nums[0])\n",
    "for i in range(1, 10):\n",
    "    heap.insert(nums[i])\n",
    "print(heap.heap_array)\n",
    "sorted_nums = []\n",
    "while len(heap.heap_array) != 1:\n",
    "    sorted_nums.append(heap.pop())\n",
    "print(sorted_nums)"
   ]
  },
  {
   "cell_type": "code",
   "execution_count": 77,
   "metadata": {},
   "outputs": [],
   "source": [
    "# min heap의 경우 부호만 바꿔주면 된다.\n",
    "class MyHeap():\n",
    "    def __init__(self, data):\n",
    "        self.heap_array = [None]\n",
    "        self.heap_array.append(data)\n",
    "\n",
    "    def move_up(self, inserted_idx):\n",
    "        if inserted_idx <= 1:\n",
    "            return False\n",
    "        \n",
    "        parent_idx = inserted_idx // 2\n",
    "        \n",
    "        if self.heap_array[parent_idx] > self.heap_array[inserted_idx]:\n",
    "            return True\n",
    "        else:\n",
    "            return False \n",
    "\n",
    "    def move_down(self, poped_idx):\n",
    "        left_idx = poped_idx * 2\n",
    "        right_idx = poped_idx * 2 + 1\n",
    "        \n",
    "        # 자식 노드가 왼쪽 노드 조차 없는 경우\n",
    "        if left_idx >= len(self.heap_array):\n",
    "            return False\n",
    "        # 자식 노드가 오른쪽에만 없는 경우\n",
    "        elif right_idx >= len(self.heap_array):\n",
    "            if self.heap_array[poped_idx] > self.heap_array[left_idx]:\n",
    "                return True\n",
    "            else:\n",
    "                return False\n",
    "        # 자식 노드가 둘 다 있는 경우\n",
    "        else:\n",
    "            if self.heap_array[left_idx] < self.heap_array[right_idx]:\n",
    "                if self.heap_array[poped_idx] > self.heap_array[left_idx]:\n",
    "                    return True\n",
    "                else:\n",
    "                    return False\n",
    "            else:\n",
    "                if self.heap_array[poped_idx] > self.heap_array[right_idx]:\n",
    "                    return True\n",
    "                else:\n",
    "                    return False\n",
    "\n",
    "\n",
    "\n",
    "\n",
    "    def insert(self, data):\n",
    "        self.heap_array.append(data)\n",
    "        inserted_idx = len(self.heap_array) - 1\n",
    "\n",
    "        while self.move_up(inserted_idx):\n",
    "            parent_idx = inserted_idx // 2\n",
    "            self.heap_array[inserted_idx], self.heap_array[parent_idx] = self.heap_array[parent_idx], self.heap_array[inserted_idx]\n",
    "            inserted_idx = parent_idx\n",
    "        \n",
    "        return True\n",
    "\n",
    "    def pop(self):\n",
    "        poped_data = self.heap_array[1]\n",
    "        self.heap_array[1] = self.heap_array[-1]\n",
    "        del self.heap_array[-1]\n",
    "\n",
    "        poped_idx = 1\n",
    "        while self.move_down(poped_idx):\n",
    "            left_idx = poped_idx * 2\n",
    "            right_idx = poped_idx * 2 + 1\n",
    "            \n",
    "            # 자식 노드가 오른쪽에만 없는 경우\n",
    "            if right_idx >= len(self.heap_array):\n",
    "                if self.heap_array[poped_idx] > self.heap_array[left_idx]:\n",
    "                    self.heap_array[poped_idx], self.heap_array[left_idx] = self.heap_array[left_idx], self.heap_array[poped_idx]\n",
    "                    poped_idx = left_idx\n",
    "\n",
    "            # 자식 노드가 둘 다 있는 경우\n",
    "            else:\n",
    "                if self.heap_array[left_idx] < self.heap_array[right_idx]:\n",
    "                    if self.heap_array[poped_idx] > self.heap_array[left_idx]:\n",
    "                        self.heap_array[poped_idx], self.heap_array[left_idx] = self.heap_array[left_idx], self.heap_array[poped_idx]\n",
    "                        poped_idx = left_idx                        \n",
    "                else:\n",
    "                    if self.heap_array[poped_idx] > self.heap_array[right_idx]:\n",
    "                        self.heap_array[poped_idx], self.heap_array[right_idx] = self.heap_array[right_idx], self.heap_array[poped_idx]\n",
    "                        poped_idx = right_idx\n",
    "\n",
    "        return poped_data  "
   ]
  },
  {
   "cell_type": "code",
   "execution_count": 83,
   "metadata": {},
   "outputs": [
    {
     "name": "stdout",
     "output_type": "stream",
     "text": [
      "[84 25 19 66 75 26  1 23 58 74]\n",
      "[None, 1, 23, 19, 58, 74, 26, 25, 84, 66, 75]\n",
      "[1, 19, 23, 25, 26, 58, 66, 74, 75, 84]\n"
     ]
    }
   ],
   "source": [
    "nums = np.random.choice(100, (10), False)\n",
    "print(nums)\n",
    "heap = MyHeap(nums[0])\n",
    "for i in range(1, 10):\n",
    "    heap.insert(nums[i])\n",
    "print(heap.heap_array)\n",
    "sorted_nums = []\n",
    "while len(heap.heap_array) != 1:\n",
    "    sorted_nums.append(heap.pop())\n",
    "print(sorted_nums)"
   ]
  },
  {
   "cell_type": "markdown",
   "metadata": {},
   "source": [
    "## 힙(Heap)시간 복잡도\n",
    "- depth를 h라고 표기한다면\n",
    "- n개의 노드를 가지는 heap에 데이터 삽입 또는 삭제시, 최악의 경우에는 root 부터 leaf까지 비교해야 하므로 $h = log_2n$에 가까우므로 $O(logn)$의 시간 복잡도를 가진다."
   ]
  },
  {
   "cell_type": "markdown",
   "metadata": {},
   "source": []
  }
 ],
 "metadata": {
  "kernelspec": {
   "display_name": "Python 3.9.13",
   "language": "python",
   "name": "python3"
  },
  "language_info": {
   "codemirror_mode": {
    "name": "ipython",
    "version": 3
   },
   "file_extension": ".py",
   "mimetype": "text/x-python",
   "name": "python",
   "nbconvert_exporter": "python",
   "pygments_lexer": "ipython3",
   "version": "3.9.13"
  },
  "orig_nbformat": 4,
  "vscode": {
   "interpreter": {
    "hash": "3c154601d1f8476a9b9a6d0dc490beef72afd36a9b8203fe2cb34bfcd680bb6c"
   }
  }
 },
 "nbformat": 4,
 "nbformat_minor": 2
}
