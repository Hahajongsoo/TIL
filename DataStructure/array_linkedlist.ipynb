{
 "cells": [
  {
   "cell_type": "markdown",
   "metadata": {},
   "source": [
    "# Array\n",
    "\n",
    "- 데이터를 나열하고, 각 데이터를 인덱스에 대응하도록 구성한 데이터 구조\n",
    "- 파이썬에서는 리스트 타입이 배열 기능을 제공하고 있음\n",
    "\n",
    "## 배열이 왜 필요할까?\n",
    "\n",
    "- 같은 종류의 데이터를 효율적으로 관리하기 위해 사용\n",
    "- 같은 종류의 데이터를 순차적으로 저장\n",
    "\n",
    "<br>\n",
    "\n",
    "- 장점\n",
    "    - 빠른 접근이 가능하다. (인덱스 번호로 데이터에 바로 접근할 수 있다. 첫 번째 인덱스 기준 i만큼 떨어져 있다. 이런 형식으로 접근가능하다.)\n",
    "\n",
    "- 단점\n",
    "    - 추가/삭제가 쉽지 않다. (데이터를 추가 시 배열의 최대 길이를 모르는 경우 어려움을 겪을 수 있다거나, 배열을 수정시 뒤에 있는 값을 다시 앞으로 당겨와 위치를 맞춰줘야한다는 점)\n",
    "    - 미리 배열의 공간을 지정해놔야한다.\n",
    "\n",
    "## 파이썬에서 배열\n",
    "\n",
    "- 파이썬 리스트를 사용한다.\n",
    "\n",
    "파이썬 리스트는 미리 공간을 할당하지 않아도 된다는 것, 다른 데이터 타입이 동일한 리스트에 들어갈 수 있다는 점이 배열과 차이가 있다. "
   ]
  },
  {
   "cell_type": "code",
   "execution_count": 3,
   "metadata": {},
   "outputs": [
    {
     "name": "stdout",
     "output_type": "stream",
     "text": [
      "[1, 3, 4, 5]\n"
     ]
    }
   ],
   "source": [
    "# 내부 데이터를 삭제하는 경우 직접 리스트를 다시 만들 필요는 없다.\n",
    "a = [1, 2, 3, 4, 5]\n",
    "del(a[1])\n",
    "print(a)"
   ]
  },
  {
   "cell_type": "markdown",
   "metadata": {},
   "source": [
    "# Linked List\n",
    "\n",
    "## 링크드 리스트 구조\n",
    "\n",
    "- 연결 리스트라고도 함\n",
    "- 배열은 순차적으로 연결된 공간에 데이터를 나열하는 데이터 구조\n",
    "- 링크드 리스트는 떨어진 곳에 존재하는 데이터를 화살표로 연결해서 관리하는 데이터 구조\n",
    "    - 배열과 다르게 필요할 때마다 공간을 할당할 수 있고, 미리 공간을 할당해놓아야할 필요가 없다.\n",
    "- C언어에서는 주요한 데이터 구조이지만, 파이썬은 리스트 타입이 링크드 리스트의 기능을 모두 지원한다.\n",
    "\n",
    "### 링크드 리스트 기본 구조와 용어\n",
    "- 노드(Node): 데이터 저장 단위, 데이터값, 포인터로 구성되어 있다.\n",
    "- 포인터(Pointer): 각 노드 안에서, 다음이나 이전 노드와의 연결 정보를 가지고 있는 공간.\n",
    "\n",
    "<img src='https://miro.medium.com/max/1400/1*m11VTAK3YJgRemmfBI_2uw.png' align='middle' style='width:80%'>\n",
    "\n",
    "## 링크드 리스트의 장단점\n",
    "\n",
    "- 장점\n",
    "    - 미리 데이터 공간을 할당하지 않아도 된다.\n",
    "\n",
    "- 단점\n",
    "    - 연결을 위한 별도 데이터 공간이 필요하므로, 저장공간 효율이 높지 않음\n",
    "    - 연결 정보를 찾는 시간이 필요하므로 접근 속도가 느림\n",
    "    - 중간 데이터를 추가 또는 삭제시, 앞 뒤 데이터의 연결을 재구성해야하는 부가적인 작업 필요\n",
    "\n"
   ]
  },
  {
   "cell_type": "code",
   "execution_count": 4,
   "metadata": {},
   "outputs": [],
   "source": [
    "class Node:\n",
    "    def __init__(self, data, next=None):\n",
    "        self.data = data\n",
    "        self.next = next"
   ]
  },
  {
   "cell_type": "code",
   "execution_count": 5,
   "metadata": {},
   "outputs": [],
   "source": [
    "node1 = Node(1)\n",
    "node2 = Node(2)\n",
    "node1.next = node2\n",
    "head = node1"
   ]
  },
  {
   "cell_type": "code",
   "execution_count": 6,
   "metadata": {},
   "outputs": [],
   "source": [
    "class MyLinkedList:\n",
    "    def __init__(self, data):\n",
    "        self.head = Node(data)\n",
    "\n",
    "    def add(self, data):\n",
    "        node = self.head\n",
    "        while node.next:\n",
    "            node = node.next\n",
    "        node.next = Node(data)"
   ]
  },
  {
   "cell_type": "code",
   "execution_count": 7,
   "metadata": {},
   "outputs": [],
   "source": [
    "linkedlist = MyLinkedList(0)\n",
    "for i in range(1, 10):\n",
    "    linkedlist.add(i)"
   ]
  },
  {
   "cell_type": "code",
   "execution_count": 8,
   "metadata": {},
   "outputs": [
    {
     "name": "stdout",
     "output_type": "stream",
     "text": [
      "0 1 2 3 4 5 6 7 8 9 "
     ]
    }
   ],
   "source": [
    "node = linkedlist.head\n",
    "while node:\n",
    "    print(node.data, end=' ')\n",
    "    node = node.next\n",
    "\n"
   ]
  },
  {
   "cell_type": "code",
   "execution_count": 15,
   "metadata": {},
   "outputs": [],
   "source": [
    "class MyLinkedList:\n",
    "    def __init__(self, data):\n",
    "        self.head = Node(data)\n",
    "\n",
    "    def add(self, data):\n",
    "        node = self.head\n",
    "        while node.next:\n",
    "            node = node.next\n",
    "        node.next = Node(data)\n",
    "    \n",
    "    def desc(self):\n",
    "        node = self.head\n",
    "        while node:\n",
    "            print(node.data, end=' ')\n",
    "            node = node.next\n",
    "\n",
    "\n",
    "    def search(self, data, for_delete=False):\n",
    "        node = self.head\n",
    "        is_in = True\n",
    "        while is_in:\n",
    "            if node.next.data == data:\n",
    "                if for_delete:\n",
    "                    return node\n",
    "                else:\n",
    "                    return node.next\n",
    "            else:\n",
    "                node = node.next\n",
    "            \n",
    "            if node is None:\n",
    "                return(0)\n",
    "    \n",
    "    def insert(self, stand_data, insert_data):\n",
    "        stand_node = self.search(stand_data)\n",
    "        next_node = stand_node.next\n",
    "        stand_node.next = Node(insert_data)\n",
    "        stand_node.next.next = next_node\n",
    "\n",
    "    def delete(self, data):\n",
    "        if self.head.data == data:\n",
    "            temp = self.head\n",
    "            self.head = self.head.next\n",
    "            del temp\n",
    "        else:\n",
    "            node = self.search(data, for_delete=True)\n",
    "            temp = node.next\n",
    "            node.next = node.next.next\n",
    "            del temp\n"
   ]
  },
  {
   "cell_type": "code",
   "execution_count": 10,
   "metadata": {},
   "outputs": [
    {
     "name": "stdout",
     "output_type": "stream",
     "text": [
      "0 1 2 3 4 5 6 7 8 9 "
     ]
    }
   ],
   "source": [
    "linkedlist = MyLinkedList(0)\n",
    "for i in range(1, 10):\n",
    "    linkedlist.add(i)\n",
    "linkedlist.desc()"
   ]
  },
  {
   "cell_type": "code",
   "execution_count": 14,
   "metadata": {},
   "outputs": [
    {
     "data": {
      "text/plain": [
       "8"
      ]
     },
     "execution_count": 14,
     "metadata": {},
     "output_type": "execute_result"
    }
   ],
   "source": [
    "linkedlist.search(8).data"
   ]
  },
  {
   "cell_type": "code",
   "execution_count": 12,
   "metadata": {},
   "outputs": [
    {
     "name": "stdout",
     "output_type": "stream",
     "text": [
      "0 1 2 3 4 5 6 7 8 8.5 9 "
     ]
    }
   ],
   "source": [
    "linkedlist.insert(8, 8.5)\n",
    "linkedlist.desc()"
   ]
  },
  {
   "cell_type": "code",
   "execution_count": 13,
   "metadata": {},
   "outputs": [
    {
     "name": "stdout",
     "output_type": "stream",
     "text": [
      "0 1 2 3 4 5 6 7 8 9 "
     ]
    }
   ],
   "source": [
    "linkedlist.delete(8.5)\n",
    "linkedlist.desc()"
   ]
  },
  {
   "cell_type": "markdown",
   "metadata": {},
   "source": [
    "## 다양한 링크드 리스트 구조\n",
    "\n",
    "### 더블 링크드 리스트\n",
    "\n",
    "- 기본적인 링크드 리스트에서 데이터를 탐색할 때 무조건 head부터 순차적으로 검색하므로 찾으려는 데이터가 마지막에 있는 경우 시간이 상당히 오래걸리게 된다. 따라서 뒤에서 접근이 가능하다면, 데이저가 정렬되어 있다고 했을 때 시간을 줄일 수 있게 된다.\n"
   ]
  },
  {
   "cell_type": "code",
   "execution_count": 23,
   "metadata": {},
   "outputs": [],
   "source": [
    "class Node:\n",
    "    def __init__(self, data, next=None, prev=None):\n",
    "        self.data = data\n",
    "        self.next = next\n",
    "        self.prev = prev"
   ]
  },
  {
   "cell_type": "code",
   "execution_count": 30,
   "metadata": {},
   "outputs": [],
   "source": [
    "class MyDoubleLinkedList:\n",
    "    def __init__(self, data):\n",
    "        self.head = Node(data)\n",
    "        self.tail = self.head\n",
    "\n",
    "    def add(self, data):\n",
    "        node = self.head\n",
    "        while node.next:\n",
    "            node = node.next\n",
    "        added_node = Node(data)\n",
    "        node.next = added_node\n",
    "        added_node.prev = node\n",
    "        self.tail = added_node\n",
    "    \n",
    "    def desc(self, from_head=True):\n",
    "        if from_head:\n",
    "            node = self.head\n",
    "            while node:\n",
    "                print(node.data, end=' ')\n",
    "                node = node.next\n",
    "        else:\n",
    "            node = self.tail\n",
    "            while node:\n",
    "                print(node.data, end=' ')\n",
    "                node = node.prev\n",
    "\n",
    "\n",
    "    def search_from_head(self, data, for_delete=False):\n",
    "        node = self.head\n",
    "        while node:\n",
    "            if node.next.data == data:\n",
    "                if for_delete:\n",
    "                    return node\n",
    "                else:\n",
    "                    return node.next\n",
    "            else:\n",
    "                node = node.next\n",
    "        return False\n",
    "\n",
    "    def search_from_tail(self, data, for_delete=False):\n",
    "        node = self.tail\n",
    "        while node:\n",
    "            if node.prev.data == data:\n",
    "                if for_delete:\n",
    "                    return node\n",
    "                else:\n",
    "                    return node.prev\n",
    "            else:\n",
    "                node = node.prev\n",
    "        return False\n",
    "    \n",
    "    def insert(self, stand_data, insert_data, from_head = True):\n",
    "        if from_head:\n",
    "            stand_node = self.search_from_head(stand_data)\n",
    "        else:\n",
    "            stand_node = self.search_from_tail(stand_data)\n",
    "        next_node = stand_node.next\n",
    "        added_node = Node(insert_data)\n",
    "\n",
    "        stand_node.next = added_node\n",
    "        added_node.prev = stand_node\n",
    "        \n",
    "        added_node.next = next_node\n",
    "        next_node.prev = added_node\n",
    "\n",
    "    def delete(self, data):\n",
    "        if self.head.data == data:\n",
    "            temp = self.head\n",
    "            self.head = self.head.next\n",
    "            del temp\n",
    "        else:\n",
    "            node = self.search_from_head(data, for_delete=True)\n",
    "            temp = node.next\n",
    "            node.next = node.next.next\n",
    "            del temp\n"
   ]
  },
  {
   "cell_type": "code",
   "execution_count": 31,
   "metadata": {},
   "outputs": [
    {
     "name": "stdout",
     "output_type": "stream",
     "text": [
      "0 1 2 3 4 5 6 7 8 9 "
     ]
    }
   ],
   "source": [
    "linkedlist = MyDoubleLinkedList(0)\n",
    "for i in range(1, 10):\n",
    "    linkedlist.add(i)\n",
    "linkedlist.desc()"
   ]
  },
  {
   "cell_type": "code",
   "execution_count": 32,
   "metadata": {},
   "outputs": [
    {
     "name": "stdout",
     "output_type": "stream",
     "text": [
      "9 8 7 6 5 4 3 2 1 0 "
     ]
    }
   ],
   "source": [
    "linkedlist.desc(False)"
   ]
  },
  {
   "cell_type": "code",
   "execution_count": 33,
   "metadata": {},
   "outputs": [
    {
     "data": {
      "text/plain": [
       "9"
      ]
     },
     "execution_count": 33,
     "metadata": {},
     "output_type": "execute_result"
    }
   ],
   "source": [
    "linkedlist.search_from_head(9).data"
   ]
  },
  {
   "cell_type": "code",
   "execution_count": 34,
   "metadata": {},
   "outputs": [
    {
     "data": {
      "text/plain": [
       "5"
      ]
     },
     "execution_count": 34,
     "metadata": {},
     "output_type": "execute_result"
    }
   ],
   "source": [
    "linkedlist.search_from_tail(5).data"
   ]
  },
  {
   "cell_type": "code",
   "execution_count": 35,
   "metadata": {},
   "outputs": [],
   "source": [
    "linkedlist.insert(8, 8.5)"
   ]
  },
  {
   "cell_type": "code",
   "execution_count": 36,
   "metadata": {},
   "outputs": [
    {
     "name": "stdout",
     "output_type": "stream",
     "text": [
      "0 1 2 3 4 5 6 7 8 8.5 9 "
     ]
    }
   ],
   "source": [
    "linkedlist.desc()"
   ]
  },
  {
   "cell_type": "code",
   "execution_count": 37,
   "metadata": {},
   "outputs": [],
   "source": [
    "linkedlist.insert(8, 8.2, False)"
   ]
  },
  {
   "cell_type": "code",
   "execution_count": 38,
   "metadata": {},
   "outputs": [
    {
     "name": "stdout",
     "output_type": "stream",
     "text": [
      "0 1 2 3 4 5 6 7 8 8.2 8.5 9 "
     ]
    }
   ],
   "source": [
    "linkedlist.desc()"
   ]
  }
 ],
 "metadata": {
  "kernelspec": {
   "display_name": "Python 3.10.5",
   "language": "python",
   "name": "python3"
  },
  "language_info": {
   "codemirror_mode": {
    "name": "ipython",
    "version": 3
   },
   "file_extension": ".py",
   "mimetype": "text/x-python",
   "name": "python",
   "nbconvert_exporter": "python",
   "pygments_lexer": "ipython3",
   "version": "3.10.5"
  },
  "orig_nbformat": 4,
  "vscode": {
   "interpreter": {
    "hash": "3c154601d1f8476a9b9a6d0dc490beef72afd36a9b8203fe2cb34bfcd680bb6c"
   }
  }
 },
 "nbformat": 4,
 "nbformat_minor": 2
}
