{
 "cells": [
  {
   "cell_type": "markdown",
   "metadata": {},
   "source": [
    "# 이진 탐색\n",
    "- 데이터가 정렬이 되어있다는 가정하에 데이터를 순차적으로 탐색하는 것이 아니라 데이터를 절반으로 나누어 가면서 탐색하는 방법\n",
    "- 매번 탐색마다 데이터의 절반씩을 날려버리므로 탐색 속도가 증가한다.(매 탐색 이후마다 그때 데이터의 절반을 고려하지 않게된다.)"
   ]
  },
  {
   "cell_type": "markdown",
   "metadata": {},
   "source": [
    "# 분할 정복 알고리즘과 이진 탐색\n",
    "- 분할 정복 알고리즘(Divide and Conquer)\n",
    "    - Divide: 문제를 하나 또는 둘 이상으로 나눈다.\n",
    "    - Conquer: 나눠진 문제가 충분히 작고, 해결이 가능하다면 해결하고, 그렇지 않다면 다시 나눈다.\n",
    "- 이진 탐색\n",
    "    - Divide: 리스트를 두 개의 서브 리스트로 나눈다.\n",
    "    - Conquer\n",
    "        - 검색할 숫자 (search) > 중간값 이면, 뒷 부분의 서브 리스트에서 검색할 숫자를 찾는다.\n",
    "        - 검색할 숫자 (search) < 중간값 이면, 앞 부분의 서브 리스트에서 검색할 숫자를 찾는다."
   ]
  },
  {
   "cell_type": "markdown",
   "metadata": {},
   "source": [
    "# 알고리즘 구현"
   ]
  },
  {
   "cell_type": "code",
   "execution_count": 63,
   "metadata": {},
   "outputs": [],
   "source": [
    "def binary_search(data, search):\n",
    "    # print(data)\n",
    "    if len(data) == 1 and search == data[0]:\n",
    "        return True\n",
    "    if len(data) == 1 and search != data[0]:\n",
    "        return False\n",
    "    if len(data) == 0:\n",
    "        return False\n",
    "    \n",
    "    medium = len(data) // 2\n",
    "    if search == data[medium]:\n",
    "        return True\n",
    "    else:\n",
    "        if search > data[medium]:\n",
    "            return binary_search(data[medium+1:], search)\n",
    "        else:\n",
    "            return binary_search(data[:medium], search)"
   ]
  },
  {
   "cell_type": "code",
   "execution_count": 4,
   "metadata": {},
   "outputs": [
    {
     "data": {
      "text/plain": [
       "[68, 86, 61, 2, 93, 12, 78, 29, 60, 90]"
      ]
     },
     "execution_count": 4,
     "metadata": {},
     "output_type": "execute_result"
    }
   ],
   "source": [
    "import random\n",
    "data_list = random.sample(range(100), 10)\n",
    "data_list"
   ]
  },
  {
   "cell_type": "code",
   "execution_count": 5,
   "metadata": {},
   "outputs": [],
   "source": [
    "data_list.sort()"
   ]
  },
  {
   "cell_type": "code",
   "execution_count": 17,
   "metadata": {},
   "outputs": [
    {
     "name": "stdout",
     "output_type": "stream",
     "text": [
      "[2, 12, 29, 60, 61, 68, 78, 86, 90, 93]\n",
      "[2, 12, 29, 60, 61]\n",
      "[2, 12]\n",
      "[2]\n"
     ]
    },
    {
     "data": {
      "text/plain": [
       "True"
      ]
     },
     "execution_count": 17,
     "metadata": {},
     "output_type": "execute_result"
    }
   ],
   "source": [
    "binary_search(data_list, 2)"
   ]
  },
  {
   "cell_type": "markdown",
   "metadata": {},
   "source": [
    "# 알고리즘 분석\n",
    "- n개의 리스트를 매번 2로 나누어 1이 될 때까지 비교연산을 k회 진행\n",
    "    - $ n * {1 \\over 2} * {1 \\over 2 } * \\cdots = 1 $\n",
    "    - $ n * {1 \\over 2}^k = 1$\n",
    "    - $ n = 2^k , log_{2}n = log_{2}2^{k}$\n",
    "    - $ log_{2}n = k $\n",
    "- 빅 오 표기법으로는 k + 1 이 결국 최종 시간 복잡도임(1이 되었을 때도, 비교연산을 한번 수행)\n",
    "    - 결국 $O(log_{2}n+1)$ 이고, $O(logn)$ 이 시간 복잡도가 된다."
   ]
  },
  {
   "cell_type": "markdown",
   "metadata": {},
   "source": [
    "# 순차 탐색(Sequential Search)이란 ?\n",
    "- 탐색은 여러 데이터 중에서 원하는 데이터를 찾아내는 것을 의미\n",
    "- 데이터가 담겨있는 리스트를 앞에서부터 하나씩 비교해서 원하는 데이터를 찾는 방법"
   ]
  },
  {
   "cell_type": "code",
   "execution_count": 18,
   "metadata": {},
   "outputs": [],
   "source": [
    "import random\n",
    "data = random.sample(range(100), 10)\n"
   ]
  },
  {
   "cell_type": "code",
   "execution_count": 22,
   "metadata": {},
   "outputs": [],
   "source": [
    "def sequential(data_list, search_data):\n",
    "    for index in range(len(data_list)):\n",
    "        if data_list[index] == search_data:\n",
    "            return index\n",
    "    return -1"
   ]
  },
  {
   "cell_type": "code",
   "execution_count": 26,
   "metadata": {},
   "outputs": [
    {
     "data": {
      "text/plain": [
       "[47, 36, 94, 37, 86, 17, 71, 24, 14, 52]"
      ]
     },
     "execution_count": 26,
     "metadata": {},
     "output_type": "execute_result"
    }
   ],
   "source": [
    "data"
   ]
  },
  {
   "cell_type": "code",
   "execution_count": 27,
   "metadata": {},
   "outputs": [
    {
     "data": {
      "text/plain": [
       "8"
      ]
     },
     "execution_count": 27,
     "metadata": {},
     "output_type": "execute_result"
    }
   ],
   "source": [
    "sequential(data, 14)"
   ]
  },
  {
   "cell_type": "markdown",
   "metadata": {},
   "source": [
    "# 알고리즘 분석\n",
    "- 최악의 경우 리스트의 길이가 n일 때, n번 비교해야 함\n",
    "    - $O(n)$"
   ]
  },
  {
   "cell_type": "markdown",
   "metadata": {},
   "source": [
    "# 시간 차이 측정"
   ]
  },
  {
   "cell_type": "code",
   "execution_count": 77,
   "metadata": {},
   "outputs": [],
   "source": [
    "data = random.sample(range(10 ** 8), 10 ** 7)"
   ]
  },
  {
   "cell_type": "code",
   "execution_count": 78,
   "metadata": {},
   "outputs": [
    {
     "name": "stdout",
     "output_type": "stream",
     "text": [
      "199 ms ± 8.85 ms per loop (mean ± std. dev. of 7 runs, 1 loop each)\n"
     ]
    }
   ],
   "source": [
    "%%timeit\n",
    "binary_search(data, -1)"
   ]
  },
  {
   "cell_type": "code",
   "execution_count": 79,
   "metadata": {},
   "outputs": [
    {
     "name": "stdout",
     "output_type": "stream",
     "text": [
      "619 ms ± 11.6 ms per loop (mean ± std. dev. of 7 runs, 1 loop each)\n"
     ]
    }
   ],
   "source": [
    "%%timeit\n",
    "sequential(data, -1)"
   ]
  },
  {
   "cell_type": "code",
   "execution_count": null,
   "metadata": {},
   "outputs": [],
   "source": []
  }
 ],
 "metadata": {
  "kernelspec": {
   "display_name": "Python 3.8.8 ('base')",
   "language": "python",
   "name": "python3"
  },
  "language_info": {
   "codemirror_mode": {
    "name": "ipython",
    "version": 3
   },
   "file_extension": ".py",
   "mimetype": "text/x-python",
   "name": "python",
   "nbconvert_exporter": "python",
   "pygments_lexer": "ipython3",
   "version": "3.8.8"
  },
  "orig_nbformat": 4,
  "vscode": {
   "interpreter": {
    "hash": "f3f46aab5246a6d2fd17f1192791fcfd630c7eeb9a95d75f7a2a0e85c64d9216"
   }
  }
 },
 "nbformat": 4,
 "nbformat_minor": 2
}
